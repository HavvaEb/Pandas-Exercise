{
 "cells": [
  {
   "cell_type": "markdown",
   "metadata": {},
   "source": [
    "# Getting Financial Data - Google Finance"
   ]
  },
  {
   "cell_type": "markdown",
   "metadata": {},
   "source": [
    "### Introduction:\n",
    "\n",
    "This time you will get data from a website.\n",
    "\n",
    "\n",
    "### Step 1. Import the necessary libraries"
   ]
  },
  {
   "cell_type": "code",
   "execution_count": 47,
   "metadata": {
    "collapsed": false
   },
   "outputs": [],
   "source": [
    "import numpy as np\n",
    "import pandas as pd\n",
    "import pandas_datareader.data as web\n",
    "import datetime as dt"
   ]
  },
  {
   "cell_type": "code",
   "execution_count": 48,
   "metadata": {},
   "outputs": [],
   "source": [
    "\n",
    "#pd.core.common.is_list_like = pd.api.types.is_list_like"
   ]
  },
  {
   "cell_type": "markdown",
   "metadata": {},
   "source": [
    "### Step 2. Create your time range (start and end variables). The start date should be 01/01/2015 and the end should today (whatever your today is)"
   ]
  },
  {
   "cell_type": "code",
   "execution_count": 49,
   "metadata": {
    "collapsed": false
   },
   "outputs": [
    {
     "data": {
      "text/plain": [
       "datetime.datetime(2015, 1, 1, 0, 0)"
      ]
     },
     "execution_count": 49,
     "metadata": {},
     "output_type": "execute_result"
    }
   ],
   "source": [
    "start_date = dt.datetime(2015, 1, 1)\n",
    "end_date = dt.datetime.today()\n",
    "start_date"
   ]
  },
  {
   "cell_type": "markdown",
   "metadata": {},
   "source": [
    "### Step 3. Select the Apple, Tesla, Twitter, IBM, LinkedIn stocks symbols and assign them to a variable called stocks"
   ]
  },
  {
   "cell_type": "code",
   "execution_count": 50,
   "metadata": {
    "collapsed": false
   },
   "outputs": [],
   "source": [
    "stocks = ['APPLE', 'TSLA', 'IBM']"
   ]
  },
  {
   "cell_type": "markdown",
   "metadata": {},
   "source": [
    "### Step 4. Read the data from google, assign to df and print it"
   ]
  },
  {
   "cell_type": "code",
   "execution_count": 51,
   "metadata": {},
   "outputs": [
    {
     "data": {
      "text/html": [
       "<div>\n",
       "<style scoped>\n",
       "    .dataframe tbody tr th:only-of-type {\n",
       "        vertical-align: middle;\n",
       "    }\n",
       "\n",
       "    .dataframe tbody tr th {\n",
       "        vertical-align: top;\n",
       "    }\n",
       "\n",
       "    .dataframe thead th {\n",
       "        text-align: right;\n",
       "    }\n",
       "</style>\n",
       "<table border=\"1\" class=\"dataframe\">\n",
       "  <thead>\n",
       "    <tr style=\"text-align: right;\">\n",
       "      <th></th>\n",
       "      <th>High</th>\n",
       "      <th>Low</th>\n",
       "      <th>Open</th>\n",
       "      <th>Close</th>\n",
       "      <th>Volume</th>\n",
       "      <th>Adj Close</th>\n",
       "    </tr>\n",
       "    <tr>\n",
       "      <th>Date</th>\n",
       "      <th></th>\n",
       "      <th></th>\n",
       "      <th></th>\n",
       "      <th></th>\n",
       "      <th></th>\n",
       "      <th></th>\n",
       "    </tr>\n",
       "  </thead>\n",
       "  <tbody>\n",
       "    <tr>\n",
       "      <th>2015-01-02</th>\n",
       "      <td>44.650002</td>\n",
       "      <td>42.652000</td>\n",
       "      <td>44.574001</td>\n",
       "      <td>43.862000</td>\n",
       "      <td>23822000.0</td>\n",
       "      <td>43.862000</td>\n",
       "    </tr>\n",
       "    <tr>\n",
       "      <th>2015-01-05</th>\n",
       "      <td>43.299999</td>\n",
       "      <td>41.431999</td>\n",
       "      <td>42.910000</td>\n",
       "      <td>42.018002</td>\n",
       "      <td>26842500.0</td>\n",
       "      <td>42.018002</td>\n",
       "    </tr>\n",
       "    <tr>\n",
       "      <th>2015-01-06</th>\n",
       "      <td>42.840000</td>\n",
       "      <td>40.841999</td>\n",
       "      <td>42.012001</td>\n",
       "      <td>42.256001</td>\n",
       "      <td>31309500.0</td>\n",
       "      <td>42.256001</td>\n",
       "    </tr>\n",
       "    <tr>\n",
       "      <th>2015-01-07</th>\n",
       "      <td>42.956001</td>\n",
       "      <td>41.956001</td>\n",
       "      <td>42.669998</td>\n",
       "      <td>42.189999</td>\n",
       "      <td>14842000.0</td>\n",
       "      <td>42.189999</td>\n",
       "    </tr>\n",
       "    <tr>\n",
       "      <th>2015-01-08</th>\n",
       "      <td>42.759998</td>\n",
       "      <td>42.001999</td>\n",
       "      <td>42.562000</td>\n",
       "      <td>42.124001</td>\n",
       "      <td>17212500.0</td>\n",
       "      <td>42.124001</td>\n",
       "    </tr>\n",
       "    <tr>\n",
       "      <th>...</th>\n",
       "      <td>...</td>\n",
       "      <td>...</td>\n",
       "      <td>...</td>\n",
       "      <td>...</td>\n",
       "      <td>...</td>\n",
       "      <td>...</td>\n",
       "    </tr>\n",
       "    <tr>\n",
       "      <th>2022-03-02</th>\n",
       "      <td>886.479980</td>\n",
       "      <td>844.270020</td>\n",
       "      <td>872.130005</td>\n",
       "      <td>879.890015</td>\n",
       "      <td>24881100.0</td>\n",
       "      <td>879.890015</td>\n",
       "    </tr>\n",
       "    <tr>\n",
       "      <th>2022-03-03</th>\n",
       "      <td>886.440002</td>\n",
       "      <td>832.599976</td>\n",
       "      <td>878.770020</td>\n",
       "      <td>839.289978</td>\n",
       "      <td>20541200.0</td>\n",
       "      <td>839.289978</td>\n",
       "    </tr>\n",
       "    <tr>\n",
       "      <th>2022-03-04</th>\n",
       "      <td>855.650024</td>\n",
       "      <td>825.159973</td>\n",
       "      <td>849.099976</td>\n",
       "      <td>838.289978</td>\n",
       "      <td>22333200.0</td>\n",
       "      <td>838.289978</td>\n",
       "    </tr>\n",
       "    <tr>\n",
       "      <th>2022-03-07</th>\n",
       "      <td>866.140015</td>\n",
       "      <td>804.570007</td>\n",
       "      <td>856.299988</td>\n",
       "      <td>804.580017</td>\n",
       "      <td>24073300.0</td>\n",
       "      <td>804.580017</td>\n",
       "    </tr>\n",
       "    <tr>\n",
       "      <th>2022-03-08</th>\n",
       "      <td>811.000000</td>\n",
       "      <td>782.169983</td>\n",
       "      <td>795.530029</td>\n",
       "      <td>794.550110</td>\n",
       "      <td>5545872.0</td>\n",
       "      <td>794.550110</td>\n",
       "    </tr>\n",
       "  </tbody>\n",
       "</table>\n",
       "<p>1808 rows × 6 columns</p>\n",
       "</div>"
      ],
      "text/plain": [
       "                  High         Low        Open       Close      Volume  \\\n",
       "Date                                                                     \n",
       "2015-01-02   44.650002   42.652000   44.574001   43.862000  23822000.0   \n",
       "2015-01-05   43.299999   41.431999   42.910000   42.018002  26842500.0   \n",
       "2015-01-06   42.840000   40.841999   42.012001   42.256001  31309500.0   \n",
       "2015-01-07   42.956001   41.956001   42.669998   42.189999  14842000.0   \n",
       "2015-01-08   42.759998   42.001999   42.562000   42.124001  17212500.0   \n",
       "...                ...         ...         ...         ...         ...   \n",
       "2022-03-02  886.479980  844.270020  872.130005  879.890015  24881100.0   \n",
       "2022-03-03  886.440002  832.599976  878.770020  839.289978  20541200.0   \n",
       "2022-03-04  855.650024  825.159973  849.099976  838.289978  22333200.0   \n",
       "2022-03-07  866.140015  804.570007  856.299988  804.580017  24073300.0   \n",
       "2022-03-08  811.000000  782.169983  795.530029  794.550110   5545872.0   \n",
       "\n",
       "             Adj Close  \n",
       "Date                    \n",
       "2015-01-02   43.862000  \n",
       "2015-01-05   42.018002  \n",
       "2015-01-06   42.256001  \n",
       "2015-01-07   42.189999  \n",
       "2015-01-08   42.124001  \n",
       "...                ...  \n",
       "2022-03-02  879.890015  \n",
       "2022-03-03  839.289978  \n",
       "2022-03-04  838.289978  \n",
       "2022-03-07  804.580017  \n",
       "2022-03-08  794.550110  \n",
       "\n",
       "[1808 rows x 6 columns]"
      ]
     },
     "execution_count": 51,
     "metadata": {},
     "output_type": "execute_result"
    }
   ],
   "source": [
    "df = web.DataReader('TSLA', 'yahoo', start_date, end_date)\n",
    "df"
   ]
  },
  {
   "cell_type": "markdown",
   "metadata": {},
   "source": [
    "### Step 5.  What is the type of structure of df ?"
   ]
  },
  {
   "cell_type": "code",
   "execution_count": 52,
   "metadata": {
    "collapsed": false
   },
   "outputs": [],
   "source": [
    "# 'pandas.core.panel.Panel'"
   ]
  },
  {
   "cell_type": "markdown",
   "metadata": {},
   "source": [
    "### Step 6. Print all the Items axis values\n",
    "#### To learn more about the Panel structure go to [documentation](http://pandas.pydata.org/pandas-docs/stable/dsintro.html#panel) "
   ]
  },
  {
   "cell_type": "code",
   "execution_count": 53,
   "metadata": {
    "collapsed": false
   },
   "outputs": [
    {
     "data": {
      "text/plain": [
       "<bound method DataFrame.items of                   High         Low        Open       Close      Volume  \\\n",
       "Date                                                                     \n",
       "2015-01-02   44.650002   42.652000   44.574001   43.862000  23822000.0   \n",
       "2015-01-05   43.299999   41.431999   42.910000   42.018002  26842500.0   \n",
       "2015-01-06   42.840000   40.841999   42.012001   42.256001  31309500.0   \n",
       "2015-01-07   42.956001   41.956001   42.669998   42.189999  14842000.0   \n",
       "2015-01-08   42.759998   42.001999   42.562000   42.124001  17212500.0   \n",
       "...                ...         ...         ...         ...         ...   \n",
       "2022-03-02  886.479980  844.270020  872.130005  879.890015  24881100.0   \n",
       "2022-03-03  886.440002  832.599976  878.770020  839.289978  20541200.0   \n",
       "2022-03-04  855.650024  825.159973  849.099976  838.289978  22333200.0   \n",
       "2022-03-07  866.140015  804.570007  856.299988  804.580017  24073300.0   \n",
       "2022-03-08  811.000000  782.169983  795.530029  794.550110   5545872.0   \n",
       "\n",
       "             Adj Close  \n",
       "Date                    \n",
       "2015-01-02   43.862000  \n",
       "2015-01-05   42.018002  \n",
       "2015-01-06   42.256001  \n",
       "2015-01-07   42.189999  \n",
       "2015-01-08   42.124001  \n",
       "...                ...  \n",
       "2022-03-02  879.890015  \n",
       "2022-03-03  839.289978  \n",
       "2022-03-04  838.289978  \n",
       "2022-03-07  804.580017  \n",
       "2022-03-08  794.550110  \n",
       "\n",
       "[1808 rows x 6 columns]>"
      ]
     },
     "execution_count": 53,
     "metadata": {},
     "output_type": "execute_result"
    }
   ],
   "source": [
    "df.items"
   ]
  },
  {
   "cell_type": "markdown",
   "metadata": {},
   "source": [
    "### Step 7. Good, now we know  the data avaiable. Create a dataFrame called vol, with the Volume values."
   ]
  },
  {
   "cell_type": "code",
   "execution_count": 54,
   "metadata": {
    "collapsed": false
   },
   "outputs": [
    {
     "data": {
      "text/plain": [
       "Date\n",
       "2015-01-02    23822000.0\n",
       "2015-01-05    26842500.0\n",
       "2015-01-06    31309500.0\n",
       "2015-01-07    14842000.0\n",
       "2015-01-08    17212500.0\n",
       "Name: Volume, dtype: float64"
      ]
     },
     "execution_count": 54,
     "metadata": {},
     "output_type": "execute_result"
    }
   ],
   "source": [
    "vol = df['Volume']\n",
    "vol.head()"
   ]
  },
  {
   "cell_type": "markdown",
   "metadata": {},
   "source": [
    "### Step 8. Aggregate the data of Volume to weekly\n",
    "#### Hint: Be careful to not sum data from the same week of 2015 and other years."
   ]
  },
  {
   "cell_type": "code",
   "execution_count": 56,
   "metadata": {
    "collapsed": false,
    "scrolled": true
   },
   "outputs": [
    {
     "ename": "AttributeError",
     "evalue": "'Index' object has no attribute 'week'",
     "output_type": "error",
     "traceback": [
      "\u001b[1;31m---------------------------------------------------------------------------\u001b[0m",
      "\u001b[1;31mAttributeError\u001b[0m                            Traceback (most recent call last)",
      "\u001b[1;32me:\\Be.code\\Pandas\\pandas\\01.drill\\pandas_exercises\\08_Time_Series\\Getting_Financial_Data\\Exercises.ipynb Cell 18'\u001b[0m in \u001b[0;36m<module>\u001b[1;34m\u001b[0m\n\u001b[1;32m----> <a href='vscode-notebook-cell:/e%3A/Be.code/Pandas/pandas/01.drill/pandas_exercises/08_Time_Series/Getting_Financial_Data/Exercises.ipynb#ch0000017?line=0'>1</a>\u001b[0m vol[\u001b[39m'\u001b[39m\u001b[39mweek\u001b[39m\u001b[39m'\u001b[39m] \u001b[39m=\u001b[39m vol\u001b[39m.\u001b[39;49mindex\u001b[39m.\u001b[39;49mweek\n\u001b[0;32m      <a href='vscode-notebook-cell:/e%3A/Be.code/Pandas/pandas/01.drill/pandas_exercises/08_Time_Series/Getting_Financial_Data/Exercises.ipynb#ch0000017?line=1'>2</a>\u001b[0m vol[\u001b[39m'\u001b[39m\u001b[39myear\u001b[39m\u001b[39m'\u001b[39m] \u001b[39m=\u001b[39m vol\u001b[39m.\u001b[39mindex\u001b[39m.\u001b[39myear\n\u001b[0;32m      <a href='vscode-notebook-cell:/e%3A/Be.code/Pandas/pandas/01.drill/pandas_exercises/08_Time_Series/Getting_Financial_Data/Exercises.ipynb#ch0000017?line=3'>4</a>\u001b[0m week \u001b[39m=\u001b[39m vol\u001b[39m.\u001b[39mgroupby([\u001b[39m'\u001b[39m\u001b[39myear\u001b[39m\u001b[39m'\u001b[39m,\u001b[39m'\u001b[39m\u001b[39mweek\u001b[39m\u001b[39m'\u001b[39m])\u001b[39m.\u001b[39msum()\n",
      "\u001b[1;31mAttributeError\u001b[0m: 'Index' object has no attribute 'week'"
     ]
    }
   ],
   "source": [
    "vol['week'] = vol.index.week\n",
    "vol['year'] = vol.index.year\n",
    "\n",
    "week = vol.groupby(['year','week']).sum()\n",
    "week.head()"
   ]
  },
  {
   "cell_type": "markdown",
   "metadata": {},
   "source": [
    "### Step 9. Find all the volume traded in the year of 2015"
   ]
  },
  {
   "cell_type": "code",
   "execution_count": null,
   "metadata": {
    "collapsed": false
   },
   "outputs": [
    {
     "ename": "AttributeError",
     "evalue": "'Index' object has no attribute 'year'",
     "output_type": "error",
     "traceback": [
      "\u001b[1;31m---------------------------------------------------------------------------\u001b[0m",
      "\u001b[1;31mAttributeError\u001b[0m                            Traceback (most recent call last)",
      "\u001b[1;32me:\\Be.code\\Pandas\\pandas\\01.drill\\pandas_exercises\\08_Time_Series\\Getting_Financial_Data\\Exercises.ipynb Cell 20'\u001b[0m in \u001b[0;36m<module>\u001b[1;34m\u001b[0m\n\u001b[0;32m      <a href='vscode-notebook-cell:/e%3A/Be.code/Pandas/pandas/01.drill/pandas_exercises/08_Time_Series/Getting_Financial_Data/Exercises.ipynb#ch0000019?line=0'>1</a>\u001b[0m \u001b[39mdel\u001b[39;00m vol[\u001b[39m'\u001b[39m\u001b[39mweek\u001b[39m\u001b[39m'\u001b[39m]\n\u001b[1;32m----> <a href='vscode-notebook-cell:/e%3A/Be.code/Pandas/pandas/01.drill/pandas_exercises/08_Time_Series/Getting_Financial_Data/Exercises.ipynb#ch0000019?line=1'>2</a>\u001b[0m vol[\u001b[39m'\u001b[39m\u001b[39myear\u001b[39m\u001b[39m'\u001b[39m] \u001b[39m=\u001b[39m vol\u001b[39m.\u001b[39;49mindex\u001b[39m.\u001b[39;49myear\n\u001b[0;32m      <a href='vscode-notebook-cell:/e%3A/Be.code/Pandas/pandas/01.drill/pandas_exercises/08_Time_Series/Getting_Financial_Data/Exercises.ipynb#ch0000019?line=3'>4</a>\u001b[0m year \u001b[39m=\u001b[39m vol\u001b[39m.\u001b[39mgroupby([\u001b[39m'\u001b[39m\u001b[39myear\u001b[39m\u001b[39m'\u001b[39m])\u001b[39m.\u001b[39msum()\n\u001b[0;32m      <a href='vscode-notebook-cell:/e%3A/Be.code/Pandas/pandas/01.drill/pandas_exercises/08_Time_Series/Getting_Financial_Data/Exercises.ipynb#ch0000019?line=4'>5</a>\u001b[0m year\n",
      "\u001b[1;31mAttributeError\u001b[0m: 'Index' object has no attribute 'year'"
     ]
    }
   ],
   "source": [
    "del vol['week']\n",
    "vol['year'] = vol.index.year\n",
    "\n",
    "year = vol.groupby(['year']).sum()\n",
    "year"
   ]
  },
  {
   "cell_type": "markdown",
   "metadata": {},
   "source": [
    "### BONUS: Create your own question and answer it."
   ]
  },
  {
   "cell_type": "code",
   "execution_count": null,
   "metadata": {
    "collapsed": true
   },
   "outputs": [],
   "source": []
  }
 ],
 "metadata": {
  "interpreter": {
   "hash": "f92ba9c63fced51b16a9d8a2a7d17d868c393e230cb0c508c3b7f43d40196448"
  },
  "kernelspec": {
   "display_name": "Python 2",
   "language": "python",
   "name": "python3"
  },
  "language_info": {
   "codemirror_mode": {
    "name": "ipython",
    "version": 3
   },
   "file_extension": ".py",
   "mimetype": "text/x-python",
   "name": "python",
   "nbconvert_exporter": "python",
   "pygments_lexer": "ipython3",
   "version": "3.10.2"
  }
 },
 "nbformat": 4,
 "nbformat_minor": 0
}
