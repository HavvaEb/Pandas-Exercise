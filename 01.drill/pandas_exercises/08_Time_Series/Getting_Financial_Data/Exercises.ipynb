{
 "cells": [
  {
   "cell_type": "markdown",
   "metadata": {},
   "source": [
    "# Getting Financial Data - Google Finance"
   ]
  },
  {
   "cell_type": "markdown",
   "metadata": {},
   "source": [
    "### Introduction:\n",
    "\n",
    "This time you will get data from a website.\n",
    "\n",
    "\n",
    "### Step 1. Import the necessary libraries"
   ]
  },
  {
   "cell_type": "code",
   "execution_count": 19,
   "metadata": {
    "collapsed": false
   },
   "outputs": [],
   "source": [
    "import numpy as np\n",
    "import pandas as pd\n",
    "import pandas_datareader.data as web\n",
    "import datetime as dt"
   ]
  },
  {
   "cell_type": "markdown",
   "metadata": {},
   "source": [
    "### Step 2. Create your time range (start and end variables). The start date should be 01/01/2015 and the end should today (whatever your today is)"
   ]
  },
  {
   "cell_type": "code",
   "execution_count": 6,
   "metadata": {
    "collapsed": false
   },
   "outputs": [
    {
     "data": {
      "text/plain": [
       "datetime.datetime(2015, 1, 1, 0, 0)"
      ]
     },
     "execution_count": 6,
     "metadata": {},
     "output_type": "execute_result"
    }
   ],
   "source": [
    "start = dt.datetime(2015, 1, 1)\n",
    "end = dt.datetime.today()\n",
    "start"
   ]
  },
  {
   "cell_type": "markdown",
   "metadata": {},
   "source": [
    "### Step 3. Select the Apple, Tesla, Twitter, IBM, LinkedIn stocks symbols and assign them to a variable called stocks"
   ]
  },
  {
   "cell_type": "code",
   "execution_count": 7,
   "metadata": {
    "collapsed": false
   },
   "outputs": [],
   "source": [
    "stocks = ['APPLE', 'TSLA', 'IBM', 'LNKD']"
   ]
  },
  {
   "cell_type": "markdown",
   "metadata": {},
   "source": [
    "### Step 4. Read the data from google, assign to df and print it"
   ]
  },
  {
   "cell_type": "code",
   "execution_count": 14,
   "metadata": {},
   "outputs": [],
   "source": []
  },
  {
   "cell_type": "code",
   "execution_count": 23,
   "metadata": {
    "collapsed": false
   },
   "outputs": [
    {
     "name": "stderr",
     "output_type": "stream",
     "text": [
      "C:\\Users\\Mate Kovacs\\AppData\\Local\\Programs\\Python\\Python310\\lib\\site-packages\\pandas_datareader\\base.py:272: SymbolWarning: Failed to read symbol: 'APPLE', replacing with NaN.\n",
      "  warnings.warn(msg.format(sym), SymbolWarning)\n"
     ]
    },
    {
     "ename": "KeyboardInterrupt",
     "evalue": "",
     "output_type": "error",
     "traceback": [
      "\u001b[1;31m---------------------------------------------------------------------------\u001b[0m",
      "\u001b[1;31mKeyboardInterrupt\u001b[0m                         Traceback (most recent call last)",
      "\u001b[1;32me:\\Be.code\\Pandas\\pandas\\01.drill\\pandas_exercises\\08_Time_Series\\Getting_Financial_Data\\Exercises.ipynb Cell 10'\u001b[0m in \u001b[0;36m<module>\u001b[1;34m\u001b[0m\n\u001b[1;32m----> <a href='vscode-notebook-cell:/e%3A/Be.code/Pandas/pandas/01.drill/pandas_exercises/08_Time_Series/Getting_Financial_Data/Exercises.ipynb#ch0000008?line=0'>1</a>\u001b[0m df \u001b[39m=\u001b[39m data\u001b[39m.\u001b[39;49mDataReader(stocks, \u001b[39m'\u001b[39;49m\u001b[39myahoo\u001b[39;49m\u001b[39m'\u001b[39;49m, start, end)\n\u001b[0;32m      <a href='vscode-notebook-cell:/e%3A/Be.code/Pandas/pandas/01.drill/pandas_exercises/08_Time_Series/Getting_Financial_Data/Exercises.ipynb#ch0000008?line=1'>2</a>\u001b[0m df\n",
      "File \u001b[1;32m~\\AppData\\Local\\Programs\\Python\\Python310\\lib\\site-packages\\pandas\\util\\_decorators.py:207\u001b[0m, in \u001b[0;36mdeprecate_kwarg.<locals>._deprecate_kwarg.<locals>.wrapper\u001b[1;34m(*args, **kwargs)\u001b[0m\n\u001b[0;32m    <a href='file:///c%3A/Users/Mate%20Kovacs/AppData/Local/Programs/Python/Python310/lib/site-packages/pandas/util/_decorators.py?line=204'>205</a>\u001b[0m     \u001b[39melse\u001b[39;00m:\n\u001b[0;32m    <a href='file:///c%3A/Users/Mate%20Kovacs/AppData/Local/Programs/Python/Python310/lib/site-packages/pandas/util/_decorators.py?line=205'>206</a>\u001b[0m         kwargs[new_arg_name] \u001b[39m=\u001b[39m new_arg_value\n\u001b[1;32m--> <a href='file:///c%3A/Users/Mate%20Kovacs/AppData/Local/Programs/Python/Python310/lib/site-packages/pandas/util/_decorators.py?line=206'>207</a>\u001b[0m \u001b[39mreturn\u001b[39;00m func(\u001b[39m*\u001b[39margs, \u001b[39m*\u001b[39m\u001b[39m*\u001b[39mkwargs)\n",
      "File \u001b[1;32m~\\AppData\\Local\\Programs\\Python\\Python310\\lib\\site-packages\\pandas_datareader\\data.py:379\u001b[0m, in \u001b[0;36mDataReader\u001b[1;34m(name, data_source, start, end, retry_count, pause, session, api_key)\u001b[0m\n\u001b[0;32m    <a href='file:///c%3A/Users/Mate%20Kovacs/AppData/Local/Programs/Python/Python310/lib/site-packages/pandas_datareader/data.py?line=366'>367</a>\u001b[0m     \u001b[39mraise\u001b[39;00m \u001b[39mNotImplementedError\u001b[39;00m(msg)\n\u001b[0;32m    <a href='file:///c%3A/Users/Mate%20Kovacs/AppData/Local/Programs/Python/Python310/lib/site-packages/pandas_datareader/data.py?line=368'>369</a>\u001b[0m \u001b[39mif\u001b[39;00m data_source \u001b[39m==\u001b[39m \u001b[39m\"\u001b[39m\u001b[39myahoo\u001b[39m\u001b[39m\"\u001b[39m:\n\u001b[0;32m    <a href='file:///c%3A/Users/Mate%20Kovacs/AppData/Local/Programs/Python/Python310/lib/site-packages/pandas_datareader/data.py?line=369'>370</a>\u001b[0m     \u001b[39mreturn\u001b[39;00m YahooDailyReader(\n\u001b[0;32m    <a href='file:///c%3A/Users/Mate%20Kovacs/AppData/Local/Programs/Python/Python310/lib/site-packages/pandas_datareader/data.py?line=370'>371</a>\u001b[0m         symbols\u001b[39m=\u001b[39;49mname,\n\u001b[0;32m    <a href='file:///c%3A/Users/Mate%20Kovacs/AppData/Local/Programs/Python/Python310/lib/site-packages/pandas_datareader/data.py?line=371'>372</a>\u001b[0m         start\u001b[39m=\u001b[39;49mstart,\n\u001b[0;32m    <a href='file:///c%3A/Users/Mate%20Kovacs/AppData/Local/Programs/Python/Python310/lib/site-packages/pandas_datareader/data.py?line=372'>373</a>\u001b[0m         end\u001b[39m=\u001b[39;49mend,\n\u001b[0;32m    <a href='file:///c%3A/Users/Mate%20Kovacs/AppData/Local/Programs/Python/Python310/lib/site-packages/pandas_datareader/data.py?line=373'>374</a>\u001b[0m         adjust_price\u001b[39m=\u001b[39;49m\u001b[39mFalse\u001b[39;49;00m,\n\u001b[0;32m    <a href='file:///c%3A/Users/Mate%20Kovacs/AppData/Local/Programs/Python/Python310/lib/site-packages/pandas_datareader/data.py?line=374'>375</a>\u001b[0m         chunksize\u001b[39m=\u001b[39;49m\u001b[39m25\u001b[39;49m,\n\u001b[0;32m    <a href='file:///c%3A/Users/Mate%20Kovacs/AppData/Local/Programs/Python/Python310/lib/site-packages/pandas_datareader/data.py?line=375'>376</a>\u001b[0m         retry_count\u001b[39m=\u001b[39;49mretry_count,\n\u001b[0;32m    <a href='file:///c%3A/Users/Mate%20Kovacs/AppData/Local/Programs/Python/Python310/lib/site-packages/pandas_datareader/data.py?line=376'>377</a>\u001b[0m         pause\u001b[39m=\u001b[39;49mpause,\n\u001b[0;32m    <a href='file:///c%3A/Users/Mate%20Kovacs/AppData/Local/Programs/Python/Python310/lib/site-packages/pandas_datareader/data.py?line=377'>378</a>\u001b[0m         session\u001b[39m=\u001b[39;49msession,\n\u001b[1;32m--> <a href='file:///c%3A/Users/Mate%20Kovacs/AppData/Local/Programs/Python/Python310/lib/site-packages/pandas_datareader/data.py?line=378'>379</a>\u001b[0m     )\u001b[39m.\u001b[39;49mread()\n\u001b[0;32m    <a href='file:///c%3A/Users/Mate%20Kovacs/AppData/Local/Programs/Python/Python310/lib/site-packages/pandas_datareader/data.py?line=380'>381</a>\u001b[0m \u001b[39melif\u001b[39;00m data_source \u001b[39m==\u001b[39m \u001b[39m\"\u001b[39m\u001b[39miex\u001b[39m\u001b[39m\"\u001b[39m:\n\u001b[0;32m    <a href='file:///c%3A/Users/Mate%20Kovacs/AppData/Local/Programs/Python/Python310/lib/site-packages/pandas_datareader/data.py?line=381'>382</a>\u001b[0m     \u001b[39mreturn\u001b[39;00m IEXDailyReader(\n\u001b[0;32m    <a href='file:///c%3A/Users/Mate%20Kovacs/AppData/Local/Programs/Python/Python310/lib/site-packages/pandas_datareader/data.py?line=382'>383</a>\u001b[0m         symbols\u001b[39m=\u001b[39mname,\n\u001b[0;32m    <a href='file:///c%3A/Users/Mate%20Kovacs/AppData/Local/Programs/Python/Python310/lib/site-packages/pandas_datareader/data.py?line=383'>384</a>\u001b[0m         start\u001b[39m=\u001b[39mstart,\n\u001b[1;32m   (...)\u001b[0m\n\u001b[0;32m    <a href='file:///c%3A/Users/Mate%20Kovacs/AppData/Local/Programs/Python/Python310/lib/site-packages/pandas_datareader/data.py?line=389'>390</a>\u001b[0m         session\u001b[39m=\u001b[39msession,\n\u001b[0;32m    <a href='file:///c%3A/Users/Mate%20Kovacs/AppData/Local/Programs/Python/Python310/lib/site-packages/pandas_datareader/data.py?line=390'>391</a>\u001b[0m     )\u001b[39m.\u001b[39mread()\n",
      "File \u001b[1;32m~\\AppData\\Local\\Programs\\Python\\Python310\\lib\\site-packages\\pandas_datareader\\base.py:258\u001b[0m, in \u001b[0;36m_DailyBaseReader.read\u001b[1;34m(self)\u001b[0m\n\u001b[0;32m    <a href='file:///c%3A/Users/Mate%20Kovacs/AppData/Local/Programs/Python/Python310/lib/site-packages/pandas_datareader/base.py?line=255'>256</a>\u001b[0m     df \u001b[39m=\u001b[39m \u001b[39mself\u001b[39m\u001b[39m.\u001b[39m_dl_mult_symbols(\u001b[39mself\u001b[39m\u001b[39m.\u001b[39msymbols\u001b[39m.\u001b[39mindex)\n\u001b[0;32m    <a href='file:///c%3A/Users/Mate%20Kovacs/AppData/Local/Programs/Python/Python310/lib/site-packages/pandas_datareader/base.py?line=256'>257</a>\u001b[0m \u001b[39melse\u001b[39;00m:\n\u001b[1;32m--> <a href='file:///c%3A/Users/Mate%20Kovacs/AppData/Local/Programs/Python/Python310/lib/site-packages/pandas_datareader/base.py?line=257'>258</a>\u001b[0m     df \u001b[39m=\u001b[39m \u001b[39mself\u001b[39;49m\u001b[39m.\u001b[39;49m_dl_mult_symbols(\u001b[39mself\u001b[39;49m\u001b[39m.\u001b[39;49msymbols)\n\u001b[0;32m    <a href='file:///c%3A/Users/Mate%20Kovacs/AppData/Local/Programs/Python/Python310/lib/site-packages/pandas_datareader/base.py?line=258'>259</a>\u001b[0m \u001b[39mreturn\u001b[39;00m df\n",
      "File \u001b[1;32m~\\AppData\\Local\\Programs\\Python\\Python310\\lib\\site-packages\\pandas_datareader\\base.py:268\u001b[0m, in \u001b[0;36m_DailyBaseReader._dl_mult_symbols\u001b[1;34m(self, symbols)\u001b[0m\n\u001b[0;32m    <a href='file:///c%3A/Users/Mate%20Kovacs/AppData/Local/Programs/Python/Python310/lib/site-packages/pandas_datareader/base.py?line=265'>266</a>\u001b[0m \u001b[39mfor\u001b[39;00m sym \u001b[39min\u001b[39;00m sym_group:\n\u001b[0;32m    <a href='file:///c%3A/Users/Mate%20Kovacs/AppData/Local/Programs/Python/Python310/lib/site-packages/pandas_datareader/base.py?line=266'>267</a>\u001b[0m     \u001b[39mtry\u001b[39;00m:\n\u001b[1;32m--> <a href='file:///c%3A/Users/Mate%20Kovacs/AppData/Local/Programs/Python/Python310/lib/site-packages/pandas_datareader/base.py?line=267'>268</a>\u001b[0m         stocks[sym] \u001b[39m=\u001b[39m \u001b[39mself\u001b[39;49m\u001b[39m.\u001b[39;49m_read_one_data(\u001b[39mself\u001b[39;49m\u001b[39m.\u001b[39;49murl, \u001b[39mself\u001b[39;49m\u001b[39m.\u001b[39;49m_get_params(sym))\n\u001b[0;32m    <a href='file:///c%3A/Users/Mate%20Kovacs/AppData/Local/Programs/Python/Python310/lib/site-packages/pandas_datareader/base.py?line=268'>269</a>\u001b[0m         passed\u001b[39m.\u001b[39mappend(sym)\n\u001b[0;32m    <a href='file:///c%3A/Users/Mate%20Kovacs/AppData/Local/Programs/Python/Python310/lib/site-packages/pandas_datareader/base.py?line=269'>270</a>\u001b[0m     \u001b[39mexcept\u001b[39;00m (\u001b[39mIOError\u001b[39;00m, \u001b[39mKeyError\u001b[39;00m):\n",
      "File \u001b[1;32m~\\AppData\\Local\\Programs\\Python\\Python310\\lib\\site-packages\\pandas_datareader\\yahoo\\daily.py:159\u001b[0m, in \u001b[0;36mYahooDailyReader._read_one_data\u001b[1;34m(self, url, params)\u001b[0m\n\u001b[0;32m    <a href='file:///c%3A/Users/Mate%20Kovacs/AppData/Local/Programs/Python/Python310/lib/site-packages/pandas_datareader/yahoo/daily.py?line=155'>156</a>\u001b[0m     \u001b[39mraise\u001b[39;00m RemoteDataError(msg\u001b[39m.\u001b[39mformat(symbol, \u001b[39mself\u001b[39m\u001b[39m.\u001b[39m\u001b[39m__class__\u001b[39m\u001b[39m.\u001b[39m\u001b[39m__name__\u001b[39m))\n\u001b[0;32m    <a href='file:///c%3A/Users/Mate%20Kovacs/AppData/Local/Programs/Python/Python310/lib/site-packages/pandas_datareader/yahoo/daily.py?line=157'>158</a>\u001b[0m \u001b[39m# price data\u001b[39;00m\n\u001b[1;32m--> <a href='file:///c%3A/Users/Mate%20Kovacs/AppData/Local/Programs/Python/Python310/lib/site-packages/pandas_datareader/yahoo/daily.py?line=158'>159</a>\u001b[0m prices \u001b[39m=\u001b[39m DataFrame(data[\u001b[39m\"\u001b[39;49m\u001b[39mprices\u001b[39;49m\u001b[39m\"\u001b[39;49m])\n\u001b[0;32m    <a href='file:///c%3A/Users/Mate%20Kovacs/AppData/Local/Programs/Python/Python310/lib/site-packages/pandas_datareader/yahoo/daily.py?line=159'>160</a>\u001b[0m prices\u001b[39m.\u001b[39mcolumns \u001b[39m=\u001b[39m [col\u001b[39m.\u001b[39mcapitalize() \u001b[39mfor\u001b[39;00m col \u001b[39min\u001b[39;00m prices\u001b[39m.\u001b[39mcolumns]\n\u001b[0;32m    <a href='file:///c%3A/Users/Mate%20Kovacs/AppData/Local/Programs/Python/Python310/lib/site-packages/pandas_datareader/yahoo/daily.py?line=160'>161</a>\u001b[0m prices[\u001b[39m\"\u001b[39m\u001b[39mDate\u001b[39m\u001b[39m\"\u001b[39m] \u001b[39m=\u001b[39m to_datetime(to_datetime(prices[\u001b[39m\"\u001b[39m\u001b[39mDate\u001b[39m\u001b[39m\"\u001b[39m], unit\u001b[39m=\u001b[39m\u001b[39m\"\u001b[39m\u001b[39ms\u001b[39m\u001b[39m\"\u001b[39m)\u001b[39m.\u001b[39mdt\u001b[39m.\u001b[39mdate)\n",
      "File \u001b[1;32m~\\AppData\\Local\\Programs\\Python\\Python310\\lib\\site-packages\\pandas\\core\\frame.py:729\u001b[0m, in \u001b[0;36mDataFrame.__init__\u001b[1;34m(self, data, index, columns, dtype, copy)\u001b[0m\n\u001b[0;32m    <a href='file:///c%3A/Users/Mate%20Kovacs/AppData/Local/Programs/Python/Python310/lib/site-packages/pandas/core/frame.py?line=719'>720</a>\u001b[0m         columns \u001b[39m=\u001b[39m ensure_index(columns)  \u001b[39m# type: ignore[arg-type]\u001b[39;00m\n\u001b[0;32m    <a href='file:///c%3A/Users/Mate%20Kovacs/AppData/Local/Programs/Python/Python310/lib/site-packages/pandas/core/frame.py?line=720'>721</a>\u001b[0m     arrays, columns, index \u001b[39m=\u001b[39m nested_data_to_arrays(\n\u001b[0;32m    <a href='file:///c%3A/Users/Mate%20Kovacs/AppData/Local/Programs/Python/Python310/lib/site-packages/pandas/core/frame.py?line=721'>722</a>\u001b[0m         \u001b[39m# error: Argument 3 to \"nested_data_to_arrays\" has incompatible\u001b[39;00m\n\u001b[0;32m    <a href='file:///c%3A/Users/Mate%20Kovacs/AppData/Local/Programs/Python/Python310/lib/site-packages/pandas/core/frame.py?line=722'>723</a>\u001b[0m         \u001b[39m# type \"Optional[Collection[Any]]\"; expected \"Optional[Index]\"\u001b[39;00m\n\u001b[1;32m   (...)\u001b[0m\n\u001b[0;32m    <a href='file:///c%3A/Users/Mate%20Kovacs/AppData/Local/Programs/Python/Python310/lib/site-packages/pandas/core/frame.py?line=726'>727</a>\u001b[0m         dtype,\n\u001b[0;32m    <a href='file:///c%3A/Users/Mate%20Kovacs/AppData/Local/Programs/Python/Python310/lib/site-packages/pandas/core/frame.py?line=727'>728</a>\u001b[0m     )\n\u001b[1;32m--> <a href='file:///c%3A/Users/Mate%20Kovacs/AppData/Local/Programs/Python/Python310/lib/site-packages/pandas/core/frame.py?line=728'>729</a>\u001b[0m     mgr \u001b[39m=\u001b[39m arrays_to_mgr(\n\u001b[0;32m    <a href='file:///c%3A/Users/Mate%20Kovacs/AppData/Local/Programs/Python/Python310/lib/site-packages/pandas/core/frame.py?line=729'>730</a>\u001b[0m         arrays,\n\u001b[0;32m    <a href='file:///c%3A/Users/Mate%20Kovacs/AppData/Local/Programs/Python/Python310/lib/site-packages/pandas/core/frame.py?line=730'>731</a>\u001b[0m         columns,\n\u001b[0;32m    <a href='file:///c%3A/Users/Mate%20Kovacs/AppData/Local/Programs/Python/Python310/lib/site-packages/pandas/core/frame.py?line=731'>732</a>\u001b[0m         index,\n\u001b[0;32m    <a href='file:///c%3A/Users/Mate%20Kovacs/AppData/Local/Programs/Python/Python310/lib/site-packages/pandas/core/frame.py?line=732'>733</a>\u001b[0m         dtype\u001b[39m=\u001b[39;49mdtype,\n\u001b[0;32m    <a href='file:///c%3A/Users/Mate%20Kovacs/AppData/Local/Programs/Python/Python310/lib/site-packages/pandas/core/frame.py?line=733'>734</a>\u001b[0m         typ\u001b[39m=\u001b[39;49mmanager,\n\u001b[0;32m    <a href='file:///c%3A/Users/Mate%20Kovacs/AppData/Local/Programs/Python/Python310/lib/site-packages/pandas/core/frame.py?line=734'>735</a>\u001b[0m     )\n\u001b[0;32m    <a href='file:///c%3A/Users/Mate%20Kovacs/AppData/Local/Programs/Python/Python310/lib/site-packages/pandas/core/frame.py?line=735'>736</a>\u001b[0m \u001b[39melse\u001b[39;00m:\n\u001b[0;32m    <a href='file:///c%3A/Users/Mate%20Kovacs/AppData/Local/Programs/Python/Python310/lib/site-packages/pandas/core/frame.py?line=736'>737</a>\u001b[0m     mgr \u001b[39m=\u001b[39m ndarray_to_mgr(\n\u001b[0;32m    <a href='file:///c%3A/Users/Mate%20Kovacs/AppData/Local/Programs/Python/Python310/lib/site-packages/pandas/core/frame.py?line=737'>738</a>\u001b[0m         data,\n\u001b[0;32m    <a href='file:///c%3A/Users/Mate%20Kovacs/AppData/Local/Programs/Python/Python310/lib/site-packages/pandas/core/frame.py?line=738'>739</a>\u001b[0m         index,\n\u001b[1;32m   (...)\u001b[0m\n\u001b[0;32m    <a href='file:///c%3A/Users/Mate%20Kovacs/AppData/Local/Programs/Python/Python310/lib/site-packages/pandas/core/frame.py?line=742'>743</a>\u001b[0m         typ\u001b[39m=\u001b[39mmanager,\n\u001b[0;32m    <a href='file:///c%3A/Users/Mate%20Kovacs/AppData/Local/Programs/Python/Python310/lib/site-packages/pandas/core/frame.py?line=743'>744</a>\u001b[0m     )\n",
      "File \u001b[1;32m~\\AppData\\Local\\Programs\\Python\\Python310\\lib\\site-packages\\pandas\\core\\internals\\construction.py:156\u001b[0m, in \u001b[0;36marrays_to_mgr\u001b[1;34m(arrays, columns, index, dtype, verify_integrity, typ, consolidate)\u001b[0m\n\u001b[0;32m    <a href='file:///c%3A/Users/Mate%20Kovacs/AppData/Local/Programs/Python/Python310/lib/site-packages/pandas/core/internals/construction.py?line=152'>153</a>\u001b[0m axes \u001b[39m=\u001b[39m [columns, index]\n\u001b[0;32m    <a href='file:///c%3A/Users/Mate%20Kovacs/AppData/Local/Programs/Python/Python310/lib/site-packages/pandas/core/internals/construction.py?line=154'>155</a>\u001b[0m \u001b[39mif\u001b[39;00m typ \u001b[39m==\u001b[39m \u001b[39m\"\u001b[39m\u001b[39mblock\u001b[39m\u001b[39m\"\u001b[39m:\n\u001b[1;32m--> <a href='file:///c%3A/Users/Mate%20Kovacs/AppData/Local/Programs/Python/Python310/lib/site-packages/pandas/core/internals/construction.py?line=155'>156</a>\u001b[0m     \u001b[39mreturn\u001b[39;00m create_block_manager_from_column_arrays(\n\u001b[0;32m    <a href='file:///c%3A/Users/Mate%20Kovacs/AppData/Local/Programs/Python/Python310/lib/site-packages/pandas/core/internals/construction.py?line=156'>157</a>\u001b[0m         arrays, axes, consolidate\u001b[39m=\u001b[39;49mconsolidate\n\u001b[0;32m    <a href='file:///c%3A/Users/Mate%20Kovacs/AppData/Local/Programs/Python/Python310/lib/site-packages/pandas/core/internals/construction.py?line=157'>158</a>\u001b[0m     )\n\u001b[0;32m    <a href='file:///c%3A/Users/Mate%20Kovacs/AppData/Local/Programs/Python/Python310/lib/site-packages/pandas/core/internals/construction.py?line=158'>159</a>\u001b[0m \u001b[39melif\u001b[39;00m typ \u001b[39m==\u001b[39m \u001b[39m\"\u001b[39m\u001b[39marray\u001b[39m\u001b[39m\"\u001b[39m:\n\u001b[0;32m    <a href='file:///c%3A/Users/Mate%20Kovacs/AppData/Local/Programs/Python/Python310/lib/site-packages/pandas/core/internals/construction.py?line=159'>160</a>\u001b[0m     \u001b[39mreturn\u001b[39;00m ArrayManager(arrays, [index, columns])\n",
      "File \u001b[1;32m~\\AppData\\Local\\Programs\\Python\\Python310\\lib\\site-packages\\pandas\\core\\internals\\managers.py:1954\u001b[0m, in \u001b[0;36mcreate_block_manager_from_column_arrays\u001b[1;34m(arrays, axes, consolidate)\u001b[0m\n\u001b[0;32m   <a href='file:///c%3A/Users/Mate%20Kovacs/AppData/Local/Programs/Python/Python310/lib/site-packages/pandas/core/internals/managers.py?line=1936'>1937</a>\u001b[0m \u001b[39mdef\u001b[39;00m \u001b[39mcreate_block_manager_from_column_arrays\u001b[39m(\n\u001b[0;32m   <a href='file:///c%3A/Users/Mate%20Kovacs/AppData/Local/Programs/Python/Python310/lib/site-packages/pandas/core/internals/managers.py?line=1937'>1938</a>\u001b[0m     arrays: \u001b[39mlist\u001b[39m[ArrayLike],\n\u001b[0;32m   <a href='file:///c%3A/Users/Mate%20Kovacs/AppData/Local/Programs/Python/Python310/lib/site-packages/pandas/core/internals/managers.py?line=1938'>1939</a>\u001b[0m     axes: \u001b[39mlist\u001b[39m[Index],\n\u001b[1;32m   (...)\u001b[0m\n\u001b[0;32m   <a href='file:///c%3A/Users/Mate%20Kovacs/AppData/Local/Programs/Python/Python310/lib/site-packages/pandas/core/internals/managers.py?line=1949'>1950</a>\u001b[0m     \u001b[39m# These last three are sufficient to allow us to safely pass\u001b[39;00m\n\u001b[0;32m   <a href='file:///c%3A/Users/Mate%20Kovacs/AppData/Local/Programs/Python/Python310/lib/site-packages/pandas/core/internals/managers.py?line=1950'>1951</a>\u001b[0m     \u001b[39m#  verify_integrity=False below.\u001b[39;00m\n\u001b[0;32m   <a href='file:///c%3A/Users/Mate%20Kovacs/AppData/Local/Programs/Python/Python310/lib/site-packages/pandas/core/internals/managers.py?line=1952'>1953</a>\u001b[0m     \u001b[39mtry\u001b[39;00m:\n\u001b[1;32m-> <a href='file:///c%3A/Users/Mate%20Kovacs/AppData/Local/Programs/Python/Python310/lib/site-packages/pandas/core/internals/managers.py?line=1953'>1954</a>\u001b[0m         blocks \u001b[39m=\u001b[39m _form_blocks(arrays, consolidate)\n\u001b[0;32m   <a href='file:///c%3A/Users/Mate%20Kovacs/AppData/Local/Programs/Python/Python310/lib/site-packages/pandas/core/internals/managers.py?line=1954'>1955</a>\u001b[0m         mgr \u001b[39m=\u001b[39m BlockManager(blocks, axes, verify_integrity\u001b[39m=\u001b[39m\u001b[39mFalse\u001b[39;00m)\n\u001b[0;32m   <a href='file:///c%3A/Users/Mate%20Kovacs/AppData/Local/Programs/Python/Python310/lib/site-packages/pandas/core/internals/managers.py?line=1955'>1956</a>\u001b[0m     \u001b[39mexcept\u001b[39;00m \u001b[39mValueError\u001b[39;00m \u001b[39mas\u001b[39;00m e:\n",
      "File \u001b[1;32m~\\AppData\\Local\\Programs\\Python\\Python310\\lib\\site-packages\\pandas\\core\\internals\\managers.py:2028\u001b[0m, in \u001b[0;36m_form_blocks\u001b[1;34m(arrays, consolidate)\u001b[0m\n\u001b[0;32m   <a href='file:///c%3A/Users/Mate%20Kovacs/AppData/Local/Programs/Python/Python310/lib/site-packages/pandas/core/internals/managers.py?line=2024'>2025</a>\u001b[0m \u001b[39mif\u001b[39;00m \u001b[39missubclass\u001b[39m(dtype\u001b[39m.\u001b[39mtype, (\u001b[39mstr\u001b[39m, \u001b[39mbytes\u001b[39m)):\n\u001b[0;32m   <a href='file:///c%3A/Users/Mate%20Kovacs/AppData/Local/Programs/Python/Python310/lib/site-packages/pandas/core/internals/managers.py?line=2025'>2026</a>\u001b[0m     dtype \u001b[39m=\u001b[39m np\u001b[39m.\u001b[39mdtype(\u001b[39mobject\u001b[39m)\n\u001b[1;32m-> <a href='file:///c%3A/Users/Mate%20Kovacs/AppData/Local/Programs/Python/Python310/lib/site-packages/pandas/core/internals/managers.py?line=2027'>2028</a>\u001b[0m values, placement \u001b[39m=\u001b[39m _stack_arrays(\u001b[39mlist\u001b[39;49m(tup_block), dtype)\n\u001b[0;32m   <a href='file:///c%3A/Users/Mate%20Kovacs/AppData/Local/Programs/Python/Python310/lib/site-packages/pandas/core/internals/managers.py?line=2028'>2029</a>\u001b[0m \u001b[39mif\u001b[39;00m is_dtlike:\n\u001b[0;32m   <a href='file:///c%3A/Users/Mate%20Kovacs/AppData/Local/Programs/Python/Python310/lib/site-packages/pandas/core/internals/managers.py?line=2029'>2030</a>\u001b[0m     values \u001b[39m=\u001b[39m ensure_wrapped_if_datetimelike(values)\n",
      "File \u001b[1;32m~\\AppData\\Local\\Programs\\Python\\Python310\\lib\\site-packages\\pandas\\core\\internals\\managers.py:2069\u001b[0m, in \u001b[0;36m_stack_arrays\u001b[1;34m(tuples, dtype)\u001b[0m\n\u001b[0;32m   <a href='file:///c%3A/Users/Mate%20Kovacs/AppData/Local/Programs/Python/Python310/lib/site-packages/pandas/core/internals/managers.py?line=2066'>2067</a>\u001b[0m stacked \u001b[39m=\u001b[39m np\u001b[39m.\u001b[39mempty(shape, dtype\u001b[39m=\u001b[39mdtype)\n\u001b[0;32m   <a href='file:///c%3A/Users/Mate%20Kovacs/AppData/Local/Programs/Python/Python310/lib/site-packages/pandas/core/internals/managers.py?line=2067'>2068</a>\u001b[0m \u001b[39mfor\u001b[39;00m i, arr \u001b[39min\u001b[39;00m \u001b[39menumerate\u001b[39m(arrays):\n\u001b[1;32m-> <a href='file:///c%3A/Users/Mate%20Kovacs/AppData/Local/Programs/Python/Python310/lib/site-packages/pandas/core/internals/managers.py?line=2068'>2069</a>\u001b[0m     stacked[i] \u001b[39m=\u001b[39m arr\n\u001b[0;32m   <a href='file:///c%3A/Users/Mate%20Kovacs/AppData/Local/Programs/Python/Python310/lib/site-packages/pandas/core/internals/managers.py?line=2070'>2071</a>\u001b[0m \u001b[39mreturn\u001b[39;00m stacked, placement\n",
      "\u001b[1;31mKeyboardInterrupt\u001b[0m: "
     ]
    }
   ],
   "source": [
    "df = data.DataReader(stocks, 'yahoo', start, end)\n",
    "df"
   ]
  },
  {
   "cell_type": "markdown",
   "metadata": {},
   "source": [
    "### Step 5.  What is the type of structure of df ?"
   ]
  },
  {
   "cell_type": "code",
   "execution_count": null,
   "metadata": {
    "collapsed": false
   },
   "outputs": [],
   "source": []
  },
  {
   "cell_type": "markdown",
   "metadata": {},
   "source": [
    "### Step 6. Print all the Items axis values\n",
    "#### To learn more about the Panel structure go to [documentation](http://pandas.pydata.org/pandas-docs/stable/dsintro.html#panel) "
   ]
  },
  {
   "cell_type": "code",
   "execution_count": null,
   "metadata": {
    "collapsed": false
   },
   "outputs": [],
   "source": []
  },
  {
   "cell_type": "markdown",
   "metadata": {},
   "source": [
    "### Step 7. Good, now we know  the data avaiable. Create a dataFrame called vol, with the Volume values."
   ]
  },
  {
   "cell_type": "code",
   "execution_count": null,
   "metadata": {
    "collapsed": false
   },
   "outputs": [],
   "source": []
  },
  {
   "cell_type": "markdown",
   "metadata": {},
   "source": [
    "### Step 8. Aggregate the data of Volume to weekly\n",
    "#### Hint: Be careful to not sum data from the same week of 2015 and other years."
   ]
  },
  {
   "cell_type": "code",
   "execution_count": null,
   "metadata": {
    "collapsed": false,
    "scrolled": true
   },
   "outputs": [],
   "source": []
  },
  {
   "cell_type": "markdown",
   "metadata": {},
   "source": [
    "### Step 9. Find all the volume traded in the year of 2015"
   ]
  },
  {
   "cell_type": "code",
   "execution_count": null,
   "metadata": {
    "collapsed": false
   },
   "outputs": [],
   "source": []
  },
  {
   "cell_type": "markdown",
   "metadata": {},
   "source": [
    "### BONUS: Create your own question and answer it."
   ]
  },
  {
   "cell_type": "code",
   "execution_count": null,
   "metadata": {
    "collapsed": true
   },
   "outputs": [],
   "source": []
  }
 ],
 "metadata": {
  "interpreter": {
   "hash": "f92ba9c63fced51b16a9d8a2a7d17d868c393e230cb0c508c3b7f43d40196448"
  },
  "kernelspec": {
   "display_name": "Python 2",
   "language": "python",
   "name": "python3"
  },
  "language_info": {
   "codemirror_mode": {
    "name": "ipython",
    "version": 3
   },
   "file_extension": ".py",
   "mimetype": "text/x-python",
   "name": "python",
   "nbconvert_exporter": "python",
   "pygments_lexer": "ipython3",
   "version": "3.10.2"
  }
 },
 "nbformat": 4,
 "nbformat_minor": 0
}
