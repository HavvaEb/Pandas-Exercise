{
 "cells": [
  {
   "cell_type": "markdown",
   "metadata": {},
   "source": [
    "# Getting Financial Data - Google Finance"
   ]
  },
  {
   "cell_type": "markdown",
   "metadata": {},
   "source": [
    "### Introduction:\n",
    "\n",
    "This time you will get data from a website.\n",
    "\n",
    "\n",
    "### Step 1. Import the necessary libraries"
   ]
  },
  {
   "cell_type": "code",
   "execution_count": 15,
   "metadata": {
    "collapsed": false
   },
   "outputs": [],
   "source": [
    "import numpy as np\n",
    "import pandas as pd\n",
    "import pandas_datareader.data as web\n",
    "import datetime as dt"
   ]
  },
  {
   "cell_type": "code",
   "execution_count": 16,
   "metadata": {},
   "outputs": [],
   "source": [
    "import pandas as pd\n",
    "pd.core.common.is_list_like = pd.api.types.is_list_like"
   ]
  },
  {
   "cell_type": "markdown",
   "metadata": {},
   "source": [
    "### Step 2. Create your time range (start and end variables). The start date should be 01/01/2015 and the end should today (whatever your today is)"
   ]
  },
  {
   "cell_type": "code",
   "execution_count": 17,
   "metadata": {
    "collapsed": false
   },
   "outputs": [
    {
     "data": {
      "text/plain": [
       "datetime.datetime(2015, 1, 1, 0, 0)"
      ]
     },
     "execution_count": 17,
     "metadata": {},
     "output_type": "execute_result"
    }
   ],
   "source": [
    "start = dt.datetime(2015, 1, 1)\n",
    "end = dt.datetime.today()\n",
    "start"
   ]
  },
  {
   "cell_type": "markdown",
   "metadata": {},
   "source": [
    "### Step 3. Select the Apple, Tesla, Twitter, IBM, LinkedIn stocks symbols and assign them to a variable called stocks"
   ]
  },
  {
   "cell_type": "code",
   "execution_count": 18,
   "metadata": {
    "collapsed": false
   },
   "outputs": [],
   "source": [
    "stocks = ['APPLE', 'TSLA', 'IBM', 'LNKD']"
   ]
  },
  {
   "cell_type": "markdown",
   "metadata": {},
   "source": [
    "### Step 4. Read the data from google, assign to df and print it"
   ]
  },
  {
   "cell_type": "code",
   "execution_count": 19,
   "metadata": {},
   "outputs": [
    {
     "ename": "NotImplementedError",
     "evalue": "data_source='google' is not implemented",
     "output_type": "error",
     "traceback": [
      "\u001b[1;31m---------------------------------------------------------------------------\u001b[0m",
      "\u001b[1;31mNotImplementedError\u001b[0m                       Traceback (most recent call last)",
      "\u001b[1;32me:\\Be.code\\Pandas\\pandas\\01.drill\\pandas_exercises\\08_Time_Series\\Getting_Financial_Data\\Exercises.ipynb Cell 10'\u001b[0m in \u001b[0;36m<module>\u001b[1;34m\u001b[0m\n\u001b[1;32m----> <a href='vscode-notebook-cell:/e%3A/Be.code/Pandas/pandas/01.drill/pandas_exercises/08_Time_Series/Getting_Financial_Data/Exercises.ipynb#ch0000008?line=0'>1</a>\u001b[0m df \u001b[39m=\u001b[39m web\u001b[39m.\u001b[39;49mDataReader(stocks, \u001b[39m'\u001b[39;49m\u001b[39mgoogle\u001b[39;49m\u001b[39m'\u001b[39;49m, start, end)\n\u001b[0;32m      <a href='vscode-notebook-cell:/e%3A/Be.code/Pandas/pandas/01.drill/pandas_exercises/08_Time_Series/Getting_Financial_Data/Exercises.ipynb#ch0000008?line=1'>2</a>\u001b[0m df\n",
      "File \u001b[1;32m~\\AppData\\Local\\Programs\\Python\\Python310\\lib\\site-packages\\pandas\\util\\_decorators.py:207\u001b[0m, in \u001b[0;36mdeprecate_kwarg.<locals>._deprecate_kwarg.<locals>.wrapper\u001b[1;34m(*args, **kwargs)\u001b[0m\n\u001b[0;32m    <a href='file:///c%3A/Users/Mate%20Kovacs/AppData/Local/Programs/Python/Python310/lib/site-packages/pandas/util/_decorators.py?line=204'>205</a>\u001b[0m     \u001b[39melse\u001b[39;00m:\n\u001b[0;32m    <a href='file:///c%3A/Users/Mate%20Kovacs/AppData/Local/Programs/Python/Python310/lib/site-packages/pandas/util/_decorators.py?line=205'>206</a>\u001b[0m         kwargs[new_arg_name] \u001b[39m=\u001b[39m new_arg_value\n\u001b[1;32m--> <a href='file:///c%3A/Users/Mate%20Kovacs/AppData/Local/Programs/Python/Python310/lib/site-packages/pandas/util/_decorators.py?line=206'>207</a>\u001b[0m \u001b[39mreturn\u001b[39;00m func(\u001b[39m*\u001b[39margs, \u001b[39m*\u001b[39m\u001b[39m*\u001b[39mkwargs)\n",
      "File \u001b[1;32m~\\AppData\\Local\\Programs\\Python\\Python310\\lib\\site-packages\\pandas_datareader\\data.py:367\u001b[0m, in \u001b[0;36mDataReader\u001b[1;34m(name, data_source, start, end, retry_count, pause, session, api_key)\u001b[0m\n\u001b[0;32m    <a href='file:///c%3A/Users/Mate%20Kovacs/AppData/Local/Programs/Python/Python310/lib/site-packages/pandas_datareader/data.py?line=364'>365</a>\u001b[0m \u001b[39mif\u001b[39;00m data_source \u001b[39mnot\u001b[39;00m \u001b[39min\u001b[39;00m expected_source:\n\u001b[0;32m    <a href='file:///c%3A/Users/Mate%20Kovacs/AppData/Local/Programs/Python/Python310/lib/site-packages/pandas_datareader/data.py?line=365'>366</a>\u001b[0m     msg \u001b[39m=\u001b[39m \u001b[39m\"\u001b[39m\u001b[39mdata_source=\u001b[39m\u001b[39m%r\u001b[39;00m\u001b[39m is not implemented\u001b[39m\u001b[39m\"\u001b[39m \u001b[39m%\u001b[39m data_source\n\u001b[1;32m--> <a href='file:///c%3A/Users/Mate%20Kovacs/AppData/Local/Programs/Python/Python310/lib/site-packages/pandas_datareader/data.py?line=366'>367</a>\u001b[0m     \u001b[39mraise\u001b[39;00m \u001b[39mNotImplementedError\u001b[39;00m(msg)\n\u001b[0;32m    <a href='file:///c%3A/Users/Mate%20Kovacs/AppData/Local/Programs/Python/Python310/lib/site-packages/pandas_datareader/data.py?line=368'>369</a>\u001b[0m \u001b[39mif\u001b[39;00m data_source \u001b[39m==\u001b[39m \u001b[39m\"\u001b[39m\u001b[39myahoo\u001b[39m\u001b[39m\"\u001b[39m:\n\u001b[0;32m    <a href='file:///c%3A/Users/Mate%20Kovacs/AppData/Local/Programs/Python/Python310/lib/site-packages/pandas_datareader/data.py?line=369'>370</a>\u001b[0m     \u001b[39mreturn\u001b[39;00m YahooDailyReader(\n\u001b[0;32m    <a href='file:///c%3A/Users/Mate%20Kovacs/AppData/Local/Programs/Python/Python310/lib/site-packages/pandas_datareader/data.py?line=370'>371</a>\u001b[0m         symbols\u001b[39m=\u001b[39mname,\n\u001b[0;32m    <a href='file:///c%3A/Users/Mate%20Kovacs/AppData/Local/Programs/Python/Python310/lib/site-packages/pandas_datareader/data.py?line=371'>372</a>\u001b[0m         start\u001b[39m=\u001b[39mstart,\n\u001b[1;32m   (...)\u001b[0m\n\u001b[0;32m    <a href='file:///c%3A/Users/Mate%20Kovacs/AppData/Local/Programs/Python/Python310/lib/site-packages/pandas_datareader/data.py?line=377'>378</a>\u001b[0m         session\u001b[39m=\u001b[39msession,\n\u001b[0;32m    <a href='file:///c%3A/Users/Mate%20Kovacs/AppData/Local/Programs/Python/Python310/lib/site-packages/pandas_datareader/data.py?line=378'>379</a>\u001b[0m     )\u001b[39m.\u001b[39mread()\n",
      "\u001b[1;31mNotImplementedError\u001b[0m: data_source='google' is not implemented"
     ]
    }
   ],
   "source": [
    "df = web.DataReader(stocks, 'google', start, end)\n",
    "df"
   ]
  },
  {
   "cell_type": "markdown",
   "metadata": {},
   "source": [
    "### Step 5.  What is the type of structure of df ?"
   ]
  },
  {
   "cell_type": "code",
   "execution_count": null,
   "metadata": {
    "collapsed": false
   },
   "outputs": [],
   "source": [
    "# 'pandas.core.panel.Panel'"
   ]
  },
  {
   "cell_type": "markdown",
   "metadata": {},
   "source": [
    "### Step 6. Print all the Items axis values\n",
    "#### To learn more about the Panel structure go to [documentation](http://pandas.pydata.org/pandas-docs/stable/dsintro.html#panel) "
   ]
  },
  {
   "cell_type": "code",
   "execution_count": null,
   "metadata": {
    "collapsed": false
   },
   "outputs": [
    {
     "ename": "NameError",
     "evalue": "name 'df' is not defined",
     "output_type": "error",
     "traceback": [
      "\u001b[1;31m---------------------------------------------------------------------------\u001b[0m",
      "\u001b[1;31mNameError\u001b[0m                                 Traceback (most recent call last)",
      "\u001b[1;32me:\\Be.code\\Pandas\\pandas\\01.drill\\pandas_exercises\\08_Time_Series\\Getting_Financial_Data\\Exercises.ipynb Cell 14'\u001b[0m in \u001b[0;36m<module>\u001b[1;34m\u001b[0m\n\u001b[1;32m----> <a href='vscode-notebook-cell:/e%3A/Be.code/Pandas/pandas/01.drill/pandas_exercises/08_Time_Series/Getting_Financial_Data/Exercises.ipynb#ch0000013?line=0'>1</a>\u001b[0m df\u001b[39m.\u001b[39mitems\n",
      "\u001b[1;31mNameError\u001b[0m: name 'df' is not defined"
     ]
    }
   ],
   "source": [
    "df.items"
   ]
  },
  {
   "cell_type": "markdown",
   "metadata": {},
   "source": [
    "### Step 7. Good, now we know  the data avaiable. Create a dataFrame called vol, with the Volume values."
   ]
  },
  {
   "cell_type": "code",
   "execution_count": 20,
   "metadata": {
    "collapsed": false
   },
   "outputs": [
    {
     "ename": "NameError",
     "evalue": "name 'df' is not defined",
     "output_type": "error",
     "traceback": [
      "\u001b[1;31m---------------------------------------------------------------------------\u001b[0m",
      "\u001b[1;31mNameError\u001b[0m                                 Traceback (most recent call last)",
      "\u001b[1;32me:\\Be.code\\Pandas\\pandas\\01.drill\\pandas_exercises\\08_Time_Series\\Getting_Financial_Data\\Exercises.ipynb Cell 16'\u001b[0m in \u001b[0;36m<module>\u001b[1;34m\u001b[0m\n\u001b[1;32m----> <a href='vscode-notebook-cell:/e%3A/Be.code/Pandas/pandas/01.drill/pandas_exercises/08_Time_Series/Getting_Financial_Data/Exercises.ipynb#ch0000015?line=0'>1</a>\u001b[0m vol \u001b[39m=\u001b[39m df[\u001b[39m'\u001b[39m\u001b[39mVolume\u001b[39m\u001b[39m'\u001b[39m]\n\u001b[0;32m      <a href='vscode-notebook-cell:/e%3A/Be.code/Pandas/pandas/01.drill/pandas_exercises/08_Time_Series/Getting_Financial_Data/Exercises.ipynb#ch0000015?line=1'>2</a>\u001b[0m vol\u001b[39m.\u001b[39mhead()\n",
      "\u001b[1;31mNameError\u001b[0m: name 'df' is not defined"
     ]
    }
   ],
   "source": [
    "vol = df['Volume']\n",
    "vol.head()"
   ]
  },
  {
   "cell_type": "markdown",
   "metadata": {},
   "source": [
    "### Step 8. Aggregate the data of Volume to weekly\n",
    "#### Hint: Be careful to not sum data from the same week of 2015 and other years."
   ]
  },
  {
   "cell_type": "code",
   "execution_count": null,
   "metadata": {
    "collapsed": false,
    "scrolled": true
   },
   "outputs": [],
   "source": [
    "vol['week'] = vol.index.week\n",
    "vol['year'] = vol.index.year\n",
    "\n",
    "week = vol.groupby(['week','year']).sum()\n",
    "week.head()"
   ]
  },
  {
   "cell_type": "markdown",
   "metadata": {},
   "source": [
    "### Step 9. Find all the volume traded in the year of 2015"
   ]
  },
  {
   "cell_type": "code",
   "execution_count": null,
   "metadata": {
    "collapsed": false
   },
   "outputs": [],
   "source": [
    "del vol['week']\n",
    "vol['year'] = vol.index.year\n",
    "\n",
    "year = vol.groupby(['year']).sum()\n",
    "year"
   ]
  },
  {
   "cell_type": "markdown",
   "metadata": {},
   "source": [
    "### BONUS: Create your own question and answer it."
   ]
  },
  {
   "cell_type": "code",
   "execution_count": null,
   "metadata": {
    "collapsed": true
   },
   "outputs": [],
   "source": []
  }
 ],
 "metadata": {
  "interpreter": {
   "hash": "f92ba9c63fced51b16a9d8a2a7d17d868c393e230cb0c508c3b7f43d40196448"
  },
  "kernelspec": {
   "display_name": "Python 2",
   "language": "python",
   "name": "python3"
  },
  "language_info": {
   "codemirror_mode": {
    "name": "ipython",
    "version": 3
   },
   "file_extension": ".py",
   "mimetype": "text/x-python",
   "name": "python",
   "nbconvert_exporter": "python",
   "pygments_lexer": "ipython3",
   "version": "3.10.2"
  }
 },
 "nbformat": 4,
 "nbformat_minor": 0
}
